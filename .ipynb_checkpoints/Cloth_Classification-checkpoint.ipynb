{
 "cells": [
  {
   "cell_type": "code",
   "execution_count": 13,
   "metadata": {},
   "outputs": [
    {
     "name": "stderr",
     "output_type": "stream",
     "text": [
      "usage: ipykernel_launcher.py [-h] -d TRAINING -t TEST\n",
      "ipykernel_launcher.py: error: the following arguments are required: -d/--training, -t/--test\n"
     ]
    },
    {
     "ename": "SystemExit",
     "evalue": "2",
     "output_type": "error",
     "traceback": [
      "An exception has occurred, use %tb to see the full traceback.\n",
      "\u001b[0;31mSystemExit\u001b[0m\u001b[0;31m:\u001b[0m 2\n"
     ]
    }
   ],
   "source": [
    "from sklearn.neighbors import KNeighborsClassifier\n",
    "from skimage import exposure\n",
    "from skimage import feature\n",
    "from imutils import paths\n",
    "from matplotlib import pyplot as plt\n",
    "import argparse\n",
    "import imutils\n",
    "import cv2\n",
    "\n",
    "#setup\n",
    "app = argparse.ArgumentParser()\n",
    "app.add_argument(\"-d\", \"--training\", required=True, help=\"Path to the logos training dataset\")\n",
    "app.add_argument(\"-t\", \"--test\", required=True, help=\"Path to the test dataset\")\n",
    "args = vars(app.parse_args())\n",
    "\n",
    "print (\"[INFO] extracting features by using HOG...\")\n",
    "data = []\n",
    "labels = []\n",
    "\n",
    "for imagePath in paths.list_images(args[\"training\"]):\n",
    "\t# extract the make of the car\n",
    "\tmake = imagePath.split(\"/\")[-2]\n",
    " \n",
    "\t# load the image, convert it to grayscale, and detect edges\n",
    "\timage = cv2.imread(imagePath)\n",
    "\tgray = cv2.cvtColor(image, cv2.COLOR_BGR2GRAY)\n",
    "\tedged = imutils.auto_canny(gray)\n",
    " \n",
    "\t# find contours in the edge map, keeping only the largest one which\n",
    "\t# is presmumed to be the car logo\n",
    "\tcnts = cv2.findContours(edged.copy(), cv2.RETR_EXTERNAL,\n",
    "\t\tcv2.CHAIN_APPROX_SIMPLE)\n",
    "\tcnts = cnts[0] if imutils.is_cv2() else cnts[1]\n",
    "\tc = max(cnts, key=cv2.contourArea)\n",
    " \n",
    "\t# extract the logo of the car and resize it to a canonical width\n",
    "\t# and height\n",
    "\t(x, y, w, h) = cv2.boundingRect(c)\n",
    "\tlogo = gray[y:y + h, x:x + w]\n",
    "\tlogo = cv2.resize(logo, (200, 100))\n",
    " \n",
    "\t# extract Histogram of Oriented Gradients from the logo\n",
    "\tH = feature.hog(logo, orientations=9, pixels_per_cell=(10, 10),\n",
    "\t\tcells_per_block=(2, 2), transform_sqrt=True, block_norm=\"L1\")\n",
    " \n",
    "\t# update the data and labels\n",
    "\tdata.append(H)\n",
    "\tlabels.append(make) \n",
    "\n",
    "\n",
    "# \"train\" the nearest neighbors classifier\n",
    "print(\"[INFO] training classifier...\")\n",
    "model = KNeighborsClassifier(n_neighbors=1)\n",
    "model.fit(data, labels)\n",
    "print(\"[INFO] evaluating...\")\n",
    "for (i, imagePath) in enumerate(paths.list_images(args[\"test\"])):\n",
    "\t# load the test image, convert it to grayscale, and resize it to\n",
    "\t# the canonical size\n",
    "\timage = cv2.imread(imagePath)\n",
    "\tgray = cv2.cvtColor(image, cv2.COLOR_BGR2GRAY)\n",
    "\tlogo = cv2.resize(gray, (200, 100))\n",
    "\n",
    "\t# extract Histogram of Oriented Gradients from the test image and\n",
    "\t# predict the make of the car\n",
    "\t(H, hogImage) = feature.hog(logo, orientations=9, pixels_per_cell=(10, 10),\n",
    "\t\tcells_per_block=(2, 2), transform_sqrt=True, block_norm=\"L1\", visualise=True)\n",
    "\tpred = model.predict(H.reshape(1, -1))[0]\n",
    "\n",
    "\t# visualize the HOG image\n",
    "\thogImage = exposure.rescale_intensity(hogImage, out_range=(0, 255))\n",
    "\thogImage = hogImage.astype(\"uint8\")\n",
    "\tcv2.imshow(\"HOG Image #{}\".format(i + 1), hogImage)\n",
    "\n",
    "\t# draw the prediction on the test image and display it\n",
    "\tcv2.putText(image, pred.title(), (10, 35), cv2.FONT_HERSHEY_SIMPLEX, 1.0,\n",
    "\t\t(0, 255, 0), 3)\n",
    "\tcv2.imshow(\"Test Image #{}\".format(i + 1), image)\n",
    "\tcv2.waitKey(0)\n"
   ]
  },
  {
   "cell_type": "code",
   "execution_count": null,
   "metadata": {},
   "outputs": [],
   "source": []
  },
  {
   "cell_type": "code",
   "execution_count": null,
   "metadata": {},
   "outputs": [],
   "source": []
  }
 ],
 "metadata": {
  "kernelspec": {
   "display_name": "Python 3",
   "language": "python",
   "name": "python3"
  },
  "language_info": {
   "codemirror_mode": {
    "name": "ipython",
    "version": 3
   },
   "file_extension": ".py",
   "mimetype": "text/x-python",
   "name": "python",
   "nbconvert_exporter": "python",
   "pygments_lexer": "ipython3",
   "version": "3.7.1"
  }
 },
 "nbformat": 4,
 "nbformat_minor": 2
}
